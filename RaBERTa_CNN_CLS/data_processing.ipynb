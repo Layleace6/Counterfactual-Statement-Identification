{
 "cells": [
  {
   "cell_type": "code",
   "execution_count": 4,
   "id": "9d25c16b",
   "metadata": {},
   "outputs": [
    {
     "name": "stdout",
     "output_type": "stream",
     "text": [
      "文件已处理完成，输出到 subtask1_train.csv\n"
     ]
    }
   ],
   "source": [
    "#!/usr/bin/env python\n",
    "# -*- coding:utf-8 -*-\n",
    "import csv\n",
    "import random\n",
    "\n",
    "def renumber_sentences(input_file, output_file):\n",
    "    # 读取原始数据\n",
    "    with open(input_file, 'r') as f:\n",
    "        reader = csv.DictReader(f)\n",
    "        data = list(reader)  # 保存所有行数据\n",
    "\n",
    "    # 提取所有原始sentenceID\n",
    "    original_ids = [row['sentenceID'] for row in data]\n",
    "    \n",
    "    # 随机打乱原始ID顺序（保持原有ID但改变顺序）\n",
    "    shuffled_ids = original_ids.copy()\n",
    "    random.shuffle(shuffled_ids)\n",
    "\n",
    "    # 创建新的ID映射（原始ID -> 新顺序ID）\n",
    "    id_mapping = {original: shuffled for original, shuffled in zip(original_ids, shuffled_ids)}\n",
    "\n",
    "    # 写入新文件\n",
    "    with open(output_file, 'w', newline='') as f:\n",
    "        fieldnames = ['sentenceID', 'gold_label', 'sentence']\n",
    "        writer = csv.DictWriter(f, fieldnames=fieldnames)\n",
    "        writer.writeheader()\n",
    "        \n",
    "        for row in data:\n",
    "            # 保持gold_label和sentence不变，只改变sentenseID\n",
    "            writer.writerow({\n",
    "                'sentenceID': id_mapping[row['sentenceID']],\n",
    "                'gold_label': row['gold_label'],\n",
    "                'sentence': row['sentence']\n",
    "            })\n",
    "\n",
    "    print(f\"文件已处理完成，输出到 {output_file}\")\n",
    "\n",
    "# 直接在这里指定输入输出文件路径\n",
    "input_csv = \"subtask1_train_augmentation.csv\"  # 替换为您的输入文件路径\n",
    "output_csv = \"subtask1_train.csv\"  # 替换为您想要的输出文件路径\n",
    "\n",
    "# 设置随机种子以便结果可复现（可选）\n",
    "# random.seed(42)  \n",
    "\n",
    "# 执行函数\n",
    "renumber_sentences(input_csv, output_csv)"
   ]
  },
  {
   "cell_type": "code",
   "execution_count": null,
   "id": "f95faa63",
   "metadata": {},
   "outputs": [
    {
     "name": "stdout",
     "output_type": "stream",
     "text": [
      "{}\n"
     ]
    },
    {
     "ename": "KeyError",
     "evalue": "'0'",
     "output_type": "error",
     "traceback": [
      "\u001b[31m---------------------------------------------------------------------------\u001b[39m",
      "\u001b[31mKeyError\u001b[39m                                  Traceback (most recent call last)",
      "\u001b[36mCell\u001b[39m\u001b[36m \u001b[39m\u001b[32mIn[14]\u001b[39m\u001b[32m, line 17\u001b[39m\n\u001b[32m     15\u001b[39m preds = data.get(\u001b[33m\"\u001b[39m\u001b[33mpreds\u001b[39m\u001b[33m\"\u001b[39m,{})\n\u001b[32m     16\u001b[39m \u001b[38;5;28mprint\u001b[39m(preds)\n\u001b[32m---> \u001b[39m\u001b[32m17\u001b[39m \u001b[38;5;28;01mif\u001b[39;00m \u001b[43mpreds\u001b[49m\u001b[43m[\u001b[49m\u001b[33;43m\"\u001b[39;49m\u001b[33;43m0\u001b[39;49m\u001b[33;43m\"\u001b[39;49m\u001b[43m]\u001b[49m>=preds[\u001b[33m\"\u001b[39m\u001b[33m1\u001b[39m\u001b[33m\"\u001b[39m]:\n\u001b[32m     18\u001b[39m     pred = \u001b[32m0\u001b[39m\n\u001b[32m     19\u001b[39m \u001b[38;5;28;01melse\u001b[39;00m:\n",
      "\u001b[31mKeyError\u001b[39m: '0'"
     ]
    }
   ],
   "source": [
    "import json\n",
    "\n",
    "# 初始化计数器\n",
    "true_negatives = 0\n",
    "true_positives = 0  # 真正例（TP）\n",
    "false_positives = 0  # 假正例（FP）\n",
    "false_negatives = 0  # 假反例（FN）\n",
    "\n",
    "\n",
    "# 打开并读取 output.jsonl 文件\n",
    "with open('output.jsonl', 'r') as file:\n",
    "    for line in file:\n",
    "        data = json.loads(line)  # 解析每一行的 JSON 数据\n",
    "        label_counter = data.get(\"label_counter\", [])\n",
    "\n",
    "        # 检查 label_counter 是否有效\n",
    "        if label_counter and len(label_counter) == 1 and len(label_counter[0]) == 2:\n",
    "            true_label, prediction = label_counter[0]\n",
    "            true_label = int(true_label)  \n",
    "            prediction = int(prediction)  # 将字符串转换为整数\n",
    "\n",
    "            # 根据真实标签和预测结果更新计数器\n",
    "            if true_label == 1:\n",
    "                if prediction == 1:\n",
    "                    true_positives += 1\n",
    "                else:\n",
    "                    false_negatives += 1\n",
    "            else:\n",
    "                if prediction == 1:\n",
    "                    true_negatives += 1\n",
    "                if prediction == 0:\n",
    "                    false_positives += 1\n",
    "\n",
    "# 计算 Recall、Precision 和 F1 Score\n",
    "recall = true_positives / (true_positives + false_negatives) if (true_positives + false_negatives) > 0 else 0\n",
    "precision = true_positives / (true_positives + false_positives) if (true_positives + false_positives) > 0 else 0\n",
    "f1_score = 2 * (precision * recall) / (precision + recall) if (precision + recall) > 0 else 0\n",
    "\n",
    "# 输出结果\n",
    "print(true_positives)\n",
    "print(false_negatives)\n",
    "print(false_negatives)\n",
    "print(true_negatives)\n",
    "print(f\"Recall: {recall:.4f}\")\n",
    "print(f\"Precision: {precision:.4f}\")\n",
    "print(f\"F1 Score: {f1_score:.4f}\")"
   ]
  },
  {
   "cell_type": "code",
   "execution_count": null,
   "id": "d9c48361",
   "metadata": {},
   "outputs": [],
   "source": []
  }
 ],
 "metadata": {
  "kernelspec": {
   "display_name": "ssdm",
   "language": "python",
   "name": "python3"
  },
  "language_info": {
   "codemirror_mode": {
    "name": "ipython",
    "version": 3
   },
   "file_extension": ".py",
   "mimetype": "text/x-python",
   "name": "python",
   "nbconvert_exporter": "python",
   "pygments_lexer": "ipython3",
   "version": "3.12.11"
  }
 },
 "nbformat": 4,
 "nbformat_minor": 5
}
